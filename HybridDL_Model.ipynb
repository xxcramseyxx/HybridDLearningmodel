{
  "nbformat": 4,
  "nbformat_minor": 0,
  "metadata": {
    "colab": {
      "name": "HybridDL_Model.ipynb",
      "provenance": [],
      "authorship_tag": "ABX9TyPXRjuck4W8aFWNuzrUXLjc",
      "include_colab_link": true
    },
    "kernelspec": {
      "name": "python3",
      "display_name": "Python 3"
    },
    "language_info": {
      "name": "python"
    }
  },
  "cells": [
    {
      "cell_type": "markdown",
      "metadata": {
        "id": "view-in-github",
        "colab_type": "text"
      },
      "source": [
        "<a href=\"https://colab.research.google.com/github/xxcramseyxx/HybridDLearningmodel/blob/main/HybridDL_Model.ipynb\" target=\"_parent\"><img src=\"https://colab.research.google.com/assets/colab-badge.svg\" alt=\"Open In Colab\"/></a>"
      ]
    },
    {
      "cell_type": "code",
      "metadata": {
        "id": "H2jt3-HwQ9r7"
      },
      "source": [
        "import pandas as pd\n",
        "import numpy as np\n",
        "import matplotlib.pyplot as plt\n"
      ],
      "execution_count": null,
      "outputs": []
    },
    {
      "cell_type": "code",
      "metadata": {
        "id": "rvQBr8aaUcQy"
      },
      "source": [
        "df = pd.read_csv('/content/Credit_Card_Applications.csv')\n",
        "X = df.iloc[:, :-1].values\n",
        "y = df.iloc[:, -1].values\n",
        "\n"
      ],
      "execution_count": null,
      "outputs": []
    },
    {
      "cell_type": "code",
      "metadata": {
        "id": "mM7ntzX8VswU"
      },
      "source": [
        "from sklearn.preprocessing import MinMaxScaler\n",
        "sc = MinMaxScaler()\n",
        "X = sc.fit_transform(X)"
      ],
      "execution_count": null,
      "outputs": []
    },
    {
      "cell_type": "code",
      "metadata": {
        "id": "Div41JmUWIT7"
      },
      "source": [
        "from minisom import MiniSom\n",
        "som = MiniSom(x=10, y=10, input_len=15, sigma=1.0, learning_rate=0.5)\n",
        "som.random_weights_init(X)\n",
        "som.train_random(data=X, num_iteration=100)"
      ],
      "execution_count": null,
      "outputs": []
    },
    {
      "cell_type": "code",
      "metadata": {
        "colab": {
          "base_uri": "https://localhost:8080/",
          "height": 269
        },
        "id": "Znr1tEhGX6pk",
        "outputId": "1820ed97-e079-47df-966f-cca1b7e2f983"
      },
      "source": [
        "from pylab import bone, pcolor, colorbar, plot, show\n",
        "bone()\n",
        "pcolor(som.distance_map().T)\n",
        "colorbar()\n",
        "markers = ['o','s']\n",
        "colors = ['r','g']\n",
        "\n",
        "for i,x in enumerate(X):\n",
        "  w = som.winner(x)\n",
        "  plot(\n",
        "      w[0] + 0.5,\n",
        "      w[1] + 0.5,\n",
        "      markers[y[i]],\n",
        "      markeredgecolor=colors[y[i]],\n",
        "      markerfacecolor=('None'),\n",
        "      markersize =(10),\n",
        "      markeredgewidth =(2)    \n",
        "  )\n",
        "\n",
        "show()"
      ],
      "execution_count": null,
      "outputs": [
        {
          "output_type": "display_data",
          "data": {
            "image/png": "[encoded data removed]",
            "text/plain": [
              "<Figure size 432x288 with 2 Axes>"
            ]
          },
          "metadata": {
            "tags": [],
            "needs_background": "light"
          }
        }
      ]
    },
    {
      "cell_type": "code",
      "metadata": {
        "id": "MINdsTuhajJg"
      },
      "source": [
        "mappings = som.win_map(X)\n",
        "frauds = np.concatenate((mappings[(5,1)], mappings[(5,3)],mappings[(6,4)],mappings[(5,8)]),axis=0)\n",
        "frauds = sc.inverse_transform(frauds)"
      ],
      "execution_count": null,
      "outputs": []
    },
    {
      "cell_type": "code",
      "metadata": {
        "id": "If7_H9S5cMUa"
      },
      "source": [
        "print('Customer Fraud IDs')\n",
        "for i in frauds[:, 0]:\n",
        "  print(int(i))"
      ],
      "execution_count": null,
      "outputs": []
    },
    {
      "cell_type": "code",
      "metadata": {
        "id": "nsbqC9NE0ZRH"
      },
      "source": [
        "customers = df.iloc[:, 1:].values\n",
        "is_fraud = np.zeros(len(df))\n",
        "print(customers)\n",
        "print(is_fraud)"
      ],
      "execution_count": null,
      "outputs": []
    },
    {
      "cell_type": "code",
      "metadata": {
        "id": "04O01Wj52GAW"
      },
      "source": [
        "for i in range(len(df)):\n",
        "  if df.iloc[i,0] in frauds:\n",
        "    is_fraud[i]=1"
      ],
      "execution_count": null,
      "outputs": []
    },
    {
      "cell_type": "code",
      "metadata": {
        "id": "GcjlNd794LU8"
      },
      "source": [
        "print(is_fraud)"
      ],
      "execution_count": null,
      "outputs": []
    },
    {
      "cell_type": "code",
      "metadata": {
        "id": "mvUwZ1Gz4ZB4"
      },
      "source": [
        "import tensorflow as tf"
      ],
      "execution_count": null,
      "outputs": []
    },
    {
      "cell_type": "code",
      "metadata": {
        "id": "Wrno_quT5LJA"
      },
      "source": [
        "from sklearn.preprocessing import StandardScaler\n",
        "sc = StandardScaler()\n",
        "customers = sc.fit_transform(customers)"
      ],
      "execution_count": null,
      "outputs": []
    },
    {
      "cell_type": "code",
      "metadata": {
        "id": "4iGY7hWA4qoF"
      },
      "source": [
        "class_ann = tf.keras.models.Sequential()\n",
        "class_ann.add(tf.keras.layers.Dense(units = 2, activation='relu'))\n",
        "class_ann.add(tf.keras.layers.Dense(units = 1, activation='sigmoid'))\n",
        "class_ann.compile(optimizer='adam', loss='binary_crossentropy', metrics=['accuracy'])"
      ],
      "execution_count": null,
      "outputs": []
    },
    {
      "cell_type": "code",
      "metadata": {
        "colab": {
          "base_uri": "https://localhost:8080/"
        },
        "id": "xBp0qhfA84cL",
        "outputId": "ca12460d-3691-4e22-f827-e04bcd589d3f"
      },
      "source": [
        "class_ann.fit(customers, is_fraud, batch_size=1, epochs=2)"
      ],
      "execution_count": null,
      "outputs": [
        {
          "output_type": "stream",
          "text": [
            "Epoch 1/2\n",
            "690/690 [==============================] - 1s 979us/step - loss: 0.1918 - accuracy: 0.9435\n",
            "Epoch 2/2\n",
            "690/690 [==============================] - 1s 1ms/step - loss: 0.1904 - accuracy: 0.9435\n"
          ],
          "name": "stdout"
        },
        {
          "output_type": "execute_result",
          "data": {
            "text/plain": [
              "<tensorflow.python.keras.callbacks.History at 0x7f5e32329850>"
            ]
          },
          "metadata": {
            "tags": []
          },
          "execution_count": 141
        }
      ]
    },
    {
      "cell_type": "code",
      "metadata": {
        "colab": {
          "base_uri": "https://localhost:8080/"
        },
        "id": "yO9O5Ho-OKPi",
        "outputId": "ee7e310a-bc9a-4a31-a209-7728cc897d3f"
      },
      "source": [
        "y_pred = class_ann.predict(customers)\n",
        "y_pred = np.concatenate((df.iloc[:,0:1].values,y_pred), axis=1) #0:1 takes only the values from 0-1 but makes the array two dimensional\n",
        "y_pred = y_pred[y_pred[:, 1].argsort()]\n",
        "print(y_pred)\n"
      ],
      "execution_count": null,
      "outputs": [
        {
          "output_type": "stream",
          "text": [
            "[[1.58052610e+07 5.18351793e-04]\n",
            " [1.56660960e+07 9.01520252e-04]\n",
            " [1.56233690e+07 1.18935108e-03]\n",
            " ...\n",
            " [1.57769210e+07 3.12115490e-01]\n",
            " [1.56773950e+07 3.13936710e-01]\n",
            " [1.57901130e+07 8.62181067e-01]]\n"
          ],
          "name": "stdout"
        }
      ]
    }
  ]
}